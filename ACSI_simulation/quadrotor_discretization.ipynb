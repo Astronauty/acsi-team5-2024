{
 "cells": [
  {
   "cell_type": "code",
   "execution_count": null,
   "metadata": {},
   "outputs": [],
   "source": [
    "import logging\n",
    "import sys\n",
    "import time\n",
    "import osqp\n",
    "import numpy as np\n",
    "import scipy as sp\n",
    "\n",
    "from scipy import signal\n",
    "from scipy import sparse\n",
    "from threading import Event\n",
    "\n",
    "\n",
    "params = dict()\n",
    "params['g'] = 9.81\n",
    "params['m'] = 0.027\n",
    "\n",
    "g = params['g']\n",
    "m = params['m']\n",
    "\n",
    "Ixx = 2.3951E-5\n",
    "Iyy = 2.3951E-5\n",
    "Izz = 3.2347E-5\n",
    "\n",
    "# Construct the state space system for the quadrotor (based on https://arxiv.org/pdf/1908.07401)\n",
    "A = np.zeros([12,12])\n",
    "A[0:3,3:6] = np.eye(3)\n",
    "A[3:6,6:9] = np.array([[0, -g, 0], \n",
    "                        [g, 0, 0],\n",
    "                        [0, 0, 0 ]])\n",
    "A[6:9,9:12] = np.eye(3)\n",
    "\n",
    "B = np.zeros([12,4])\n",
    "#B[4,0] = -1/m\n",
    "B[5,0] = -1/m\n",
    "B[9:12, 1:4] = np.array([[1/Ixx, 0, 0], \n",
    "                            [0, 1/Iyy, 0],\n",
    "                            [0, 0, 1/Izz]])\n",
    "\n",
    "C = np.zeros([6,12])\n",
    "C[0:3,0:3] = np.eye(3)\n",
    "C[3:6, 6:9] = np.eye(3)\n",
    "\n",
    "D = np.zeros([6,4])\n",
    "\n",
    "self.sys = signal.StateSpace(A, B, C, D)\n",
    "self.discrete_sys = self.sys.to_discrete(dt)"
   ]
  }
 ],
 "metadata": {
  "kernelspec": {
   "display_name": "acsi",
   "language": "python",
   "name": "python3"
  },
  "language_info": {
   "name": "python",
   "version": "3.11.8"
  }
 },
 "nbformat": 4,
 "nbformat_minor": 2
}
